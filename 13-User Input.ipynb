{
 "cells": [
  {
   "cell_type": "markdown",
   "id": "0c16e629-acb8-4592-9189-2c405f6fa778",
   "metadata": {},
   "source": [
    "## User Inputs"
   ]
  },
  {
   "cell_type": "code",
   "execution_count": 40,
   "id": "3ff67e94-7aa6-4d14-86ce-2b417c5419dc",
   "metadata": {},
   "outputs": [
    {
     "name": "stdin",
     "output_type": "stream",
     "text": [
      "Enter any sentence: 2\n"
     ]
    },
    {
     "data": {
      "text/plain": [
       "str"
      ]
     },
     "execution_count": 40,
     "metadata": {},
     "output_type": "execute_result"
    }
   ],
   "source": [
    "user = input(\"Enter any sentence:\")  #By default,input shows the \"string\" as type\n",
    "type(user)"
   ]
  },
  {
   "cell_type": "code",
   "execution_count": 50,
   "id": "ff0fcf66-038e-48f4-9555-a8deba31ed7b",
   "metadata": {},
   "outputs": [
    {
     "name": "stdin",
     "output_type": "stream",
     "text": [
      "Enter the number only: 54\n"
     ]
    },
    {
     "data": {
      "text/plain": [
       "int"
      ]
     },
     "execution_count": 50,
     "metadata": {},
     "output_type": "execute_result"
    }
   ],
   "source": [
    "user_1 = int(input(\"Enter the number only:\"))  #\"int\" gets only numbers not alphabets\n",
    "type(user_1)"
   ]
  },
  {
   "cell_type": "code",
   "execution_count": 58,
   "id": "9c4ecc27-c177-44a8-9d6e-8249fef066a3",
   "metadata": {},
   "outputs": [
    {
     "name": "stdin",
     "output_type": "stream",
     "text": [
      "Enter the number only: 45\n"
     ]
    },
    {
     "name": "stdout",
     "output_type": "stream",
     "text": [
      "Output: 45.0\n"
     ]
    },
    {
     "data": {
      "text/plain": [
       "float"
      ]
     },
     "execution_count": 58,
     "metadata": {},
     "output_type": "execute_result"
    }
   ],
   "source": [
    "user_2 = float(input(\"Enter the number only:\"))  #\"float\" gets only numbers not alphabets and display output in decimal\n",
    "print(\"Output:\",user_2)\n",
    "type(user_2)"
   ]
  },
  {
   "cell_type": "code",
   "execution_count": 65,
   "id": "887686b0-44dd-4ed4-a6fd-346e6500401f",
   "metadata": {},
   "outputs": [
    {
     "name": "stdin",
     "output_type": "stream",
     "text": [
      "Enter the anything in it: hard\n"
     ]
    },
    {
     "name": "stdout",
     "output_type": "stream",
     "text": [
      "Output: hard\n"
     ]
    },
    {
     "data": {
      "text/plain": [
       "str"
      ]
     },
     "execution_count": 65,
     "metadata": {},
     "output_type": "execute_result"
    }
   ],
   "source": [
    "user_3 = str(input(\"Enter the anything in it:\"))  #\"str\" get anything (alphabets, sentences, symbols or numbers etc)\n",
    "print(\"Output:\",user_3)\n",
    "type(user_3)"
   ]
  },
  {
   "cell_type": "code",
   "execution_count": null,
   "id": "187a99b1-cde2-4e7c-b961-d0f273623a95",
   "metadata": {},
   "outputs": [],
   "source": []
  }
 ],
 "metadata": {
  "kernelspec": {
   "display_name": "Python [conda env:base] *",
   "language": "python",
   "name": "conda-base-py"
  },
  "language_info": {
   "codemirror_mode": {
    "name": "ipython",
    "version": 3
   },
   "file_extension": ".py",
   "mimetype": "text/x-python",
   "name": "python",
   "nbconvert_exporter": "python",
   "pygments_lexer": "ipython3",
   "version": "3.12.7"
  }
 },
 "nbformat": 4,
 "nbformat_minor": 5
}
