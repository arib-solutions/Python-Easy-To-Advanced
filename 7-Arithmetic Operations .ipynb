{
 "cells": [
  {
   "cell_type": "markdown",
   "id": "43af6dc1-7add-4e12-9db2-ca1adc00788f",
   "metadata": {},
   "source": [
    "## Arithmetic Operations (+,-,*,/,%,**)"
   ]
  },
  {
   "cell_type": "code",
   "execution_count": 3,
   "id": "3730bbd4-4dd8-4663-b0c8-9869ce68b27c",
   "metadata": {},
   "outputs": [
    {
     "name": "stdout",
     "output_type": "stream",
     "text": [
      "Addition: 6\n",
      "Subtraction: 2\n",
      "Multiplication: 8\n",
      "Division: 2.0\n",
      "Modulus: 0\n",
      "Exponentiation: 16\n"
     ]
    }
   ],
   "source": [
    "# Addition (+)\n",
    "a=4\n",
    "b=2\n",
    "c=a+b\n",
    "print(\"Addition:\",c)\n",
    "\n",
    "# Subtraction (-)\n",
    "result = a-b\n",
    "print(\"Subtraction:\", result)\n",
    "\n",
    "# Multiplication (*)\n",
    "result = a * b\n",
    "print(\"Multiplication:\", result)\n",
    "\n",
    "\n",
    "# Division (/)\n",
    "result = a / b\n",
    "print(\"Division:\", result)\n",
    "\n",
    "# Modulus (remainder) (%)\n",
    "result = a % b\n",
    "print(\"Modulus:\", result)\n",
    "\n",
    "# Exponentiation (**)\n",
    "result = a ** b\n",
    "print(\"Exponentiation:\", result)"
   ]
  },
  {
   "cell_type": "code",
   "execution_count": null,
   "id": "1516de37-fd71-4811-af6a-0306eae8408a",
   "metadata": {},
   "outputs": [],
   "source": []
  }
 ],
 "metadata": {
  "kernelspec": {
   "display_name": "Python [conda env:base] *",
   "language": "python",
   "name": "conda-base-py"
  },
  "language_info": {
   "codemirror_mode": {
    "name": "ipython",
    "version": 3
   },
   "file_extension": ".py",
   "mimetype": "text/x-python",
   "name": "python",
   "nbconvert_exporter": "python",
   "pygments_lexer": "ipython3",
   "version": "3.12.7"
  }
 },
 "nbformat": 4,
 "nbformat_minor": 5
}
