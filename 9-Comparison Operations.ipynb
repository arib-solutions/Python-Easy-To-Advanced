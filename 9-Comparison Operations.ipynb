{
 "cells": [
  {
   "cell_type": "markdown",
   "id": "13e5273e-8144-4d92-9f9f-0015fb9594f4",
   "metadata": {},
   "source": [
    "## Comparison Operations"
   ]
  },
  {
   "cell_type": "code",
   "execution_count": 15,
   "id": "fabb9038-029b-44e4-ae54-b7865f9922ae",
   "metadata": {},
   "outputs": [
    {
     "name": "stdout",
     "output_type": "stream",
     "text": [
      "a=30\n",
      "b=50\n",
      "Is 'a' equal to 'b'? False\n",
      "Is 'a' not equal to 'b'? True\n",
      "Is 'a' greater than'b'? False\n",
      "Is 'a' greater than or equal to 'b'? False\n",
      "Is 'a' less than or equal to 'b'? True\n"
     ]
    }
   ],
   "source": [
    "a=30\n",
    "b=50\n",
    "print(\"a=30\\nb=50\")\n",
    "\n",
    "#Equality\n",
    "print(\"Is 'a' equal to 'b'?\",a==b) # It is Boolean Data Type\n",
    "#Ineauality\n",
    "print(\"Is 'a' not equal to 'b'?\",a!=b)\n",
    "#Greater\n",
    "print(\"Is 'a' greater than'b'?\",a>b)\n",
    "# Greater than or equal to\n",
    "print(\"Is 'a' greater than or equal to 'b'?\", a >= b)\n",
    "# Less than or equal to\n",
    "print(\"Is 'a' less than or equal to 'b'?\", a <= b)\n"
   ]
  },
  {
   "cell_type": "code",
   "execution_count": null,
   "id": "91a006f8-5d04-4150-a5d3-afe013958760",
   "metadata": {},
   "outputs": [],
   "source": []
  }
 ],
 "metadata": {
  "kernelspec": {
   "display_name": "Python [conda env:base] *",
   "language": "python",
   "name": "conda-base-py"
  },
  "language_info": {
   "codemirror_mode": {
    "name": "ipython",
    "version": 3
   },
   "file_extension": ".py",
   "mimetype": "text/x-python",
   "name": "python",
   "nbconvert_exporter": "python",
   "pygments_lexer": "ipython3",
   "version": "3.12.7"
  }
 },
 "nbformat": 4,
 "nbformat_minor": 5
}
