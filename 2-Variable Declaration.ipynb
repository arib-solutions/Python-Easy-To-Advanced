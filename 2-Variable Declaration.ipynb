{
 "cells": [
  {
   "cell_type": "markdown",
   "id": "c02e4955-26ee-4ff0-8e20-2b094dff4315",
   "metadata": {},
   "source": [
    "## Variables"
   ]
  },
  {
   "cell_type": "code",
   "execution_count": 7,
   "id": "af62a60e-9850-4705-aba1-3e30f37d5609",
   "metadata": {},
   "outputs": [
    {
     "name": "stdout",
     "output_type": "stream",
     "text": [
      "Pythonis easy\n"
     ]
    }
   ],
   "source": [
    "a=\"Python\" \n",
    "b=\"is easy\"\n",
    "print(a+b)\n",
    "#As you see that SPACE is not include in 'Python' & 'is' due to use of + operator"
   ]
  },
  {
   "cell_type": "code",
   "execution_count": 5,
   "id": "f36a1b7b-3aea-49fd-8d92-ab41a75f129b",
   "metadata": {},
   "outputs": [
    {
     "name": "stdout",
     "output_type": "stream",
     "text": [
      "115\n"
     ]
    }
   ],
   "source": [
    "value1=20\n",
    "value2=95\n",
    "print(value1+value2)"
   ]
  },
  {
   "cell_type": "code",
   "execution_count": 7,
   "id": "990d501b-6923-4770-ad4d-5c0573a7e47a",
   "metadata": {},
   "outputs": [
    {
     "name": "stdout",
     "output_type": "stream",
     "text": [
      "2.0\n"
     ]
    }
   ],
   "source": [
    "a=50\n",
    "n=25\n",
    "result=a/n\n",
    "print(result)\n",
    "#you can use \"print\" to diplay content as well as you can use simple \"result\" variable to declare content"
   ]
  },
  {
   "cell_type": "code",
   "execution_count": 9,
   "id": "18a8a6d2-8bf4-49a3-a1be-b78f873e79b7",
   "metadata": {},
   "outputs": [
    {
     "data": {
      "text/plain": [
       "2"
      ]
     },
     "execution_count": 9,
     "metadata": {},
     "output_type": "execute_result"
    }
   ],
   "source": [
    "a=50\n",
    "n=25\n",
    "result=a//n # you can use // slash to get answer in integer but / slash show answer in float\n",
    "result "
   ]
  },
  {
   "cell_type": "code",
   "execution_count": 11,
   "id": "c36fe195-bce5-41bf-b86e-b6ceedd1ef9d",
   "metadata": {},
   "outputs": [
    {
     "name": "stdout",
     "output_type": "stream",
     "text": [
      "Phythonisawesome\n"
     ]
    },
    {
     "data": {
      "text/plain": [
       "'Phythonisawesome'"
      ]
     },
     "execution_count": 11,
     "metadata": {},
     "output_type": "execute_result"
    }
   ],
   "source": [
    "a=\"Phython\"\n",
    "b=\"is\"\n",
    "c=\"awesome\"\n",
    "print(a+b+c) #Use print method to diplay\n",
    "a+b+c        #'a+b+c' shows to diplay\n",
    "#Both ways to print the content"
   ]
  },
  {
   "cell_type": "code",
   "execution_count": null,
   "id": "41a8a9d8-4fe3-49b5-b19d-db1dd3e1cf95",
   "metadata": {},
   "outputs": [],
   "source": []
  },
  {
   "cell_type": "code",
   "execution_count": null,
   "id": "1e3228b3-0391-4c5c-b960-9b339d7c044f",
   "metadata": {},
   "outputs": [],
   "source": []
  },
  {
   "cell_type": "code",
   "execution_count": null,
   "id": "6592052b-1c59-4fc4-a12e-c7c899218434",
   "metadata": {},
   "outputs": [],
   "source": []
  },
  {
   "cell_type": "code",
   "execution_count": null,
   "id": "284d4679-2273-4bce-810c-ec1a81bedbf9",
   "metadata": {},
   "outputs": [],
   "source": []
  },
  {
   "cell_type": "code",
   "execution_count": null,
   "id": "d160cb89-ced5-40e5-b772-bcdb7f81dc4b",
   "metadata": {},
   "outputs": [],
   "source": []
  }
 ],
 "metadata": {
  "kernelspec": {
   "display_name": "Python [conda env:base] *",
   "language": "python",
   "name": "conda-base-py"
  },
  "language_info": {
   "codemirror_mode": {
    "name": "ipython",
    "version": 3
   },
   "file_extension": ".py",
   "mimetype": "text/x-python",
   "name": "python",
   "nbconvert_exporter": "python",
   "pygments_lexer": "ipython3",
   "version": "3.12.7"
  }
 },
 "nbformat": 4,
 "nbformat_minor": 5
}
