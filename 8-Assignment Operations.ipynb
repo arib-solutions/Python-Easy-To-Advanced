{
 "cells": [
  {
   "cell_type": "markdown",
   "id": "afacb946-38eb-48c5-8cb7-29e78f376ead",
   "metadata": {},
   "source": [
    "## Assignment Operators"
   ]
  },
  {
   "cell_type": "code",
   "execution_count": 11,
   "id": "0a34416a-f22b-461a-b8b4-52fe7faa8524",
   "metadata": {},
   "outputs": [
    {
     "name": "stdout",
     "output_type": "stream",
     "text": [
      "Initial value of x is: 5\n",
      "After addition assignment(x+=5),value of x is: 10\n",
      "After subtraction assignment(x -= 3): 7\n",
      "After multiplication assignment(x *= 2): 14\n",
      "After division assignment(x /= 4): 3.5\n"
     ]
    }
   ],
   "source": [
    "# Simple Assignment\n",
    "x=5\n",
    "print(\"Initial value of x is:\",x)\n",
    "\n",
    "# Addition Assignment\n",
    "x+=5 # Basically it means that \"x = x + 5\"\n",
    "print(\"After addition assignment(x+=5),value of x is:\",x)\n",
    "\n",
    "# Subtraction Assignment\n",
    "x -= 3  # Equivalent to x = x - 3 (x=10)\n",
    "print(\"After subtraction assignment(x -= 3):\", x)\n",
    "\n",
    "# Multiplication Assignment\n",
    "x *= 2  # Equivalent to x = x * 2 (x=7)\n",
    "print(\"After multiplication assignment(x *= 2):\", x)\n",
    "\n",
    "# Division Assignment\n",
    "x /= 4  # Equivalent to x = x / 4 (x=14)\n",
    "print(\"After division assignment(x /= 4):\", x)\n"
   ]
  },
  {
   "cell_type": "code",
   "execution_count": null,
   "id": "18ae8edf-0259-494e-b959-042355ba80a6",
   "metadata": {},
   "outputs": [],
   "source": []
  }
 ],
 "metadata": {
  "kernelspec": {
   "display_name": "Python [conda env:base] *",
   "language": "python",
   "name": "conda-base-py"
  },
  "language_info": {
   "codemirror_mode": {
    "name": "ipython",
    "version": 3
   },
   "file_extension": ".py",
   "mimetype": "text/x-python",
   "name": "python",
   "nbconvert_exporter": "python",
   "pygments_lexer": "ipython3",
   "version": "3.12.7"
  }
 },
 "nbformat": 4,
 "nbformat_minor": 5
}
