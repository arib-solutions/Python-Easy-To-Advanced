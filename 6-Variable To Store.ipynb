{
 "cells": [
  {
   "cell_type": "markdown",
   "id": "7c6e952b-799c-4784-9e4f-3e061a0d20dd",
   "metadata": {},
   "source": [
    "## Variable To Store"
   ]
  },
  {
   "cell_type": "code",
   "execution_count": 17,
   "id": "122382bd-c937-4c8f-ae43-994633354c02",
   "metadata": {},
   "outputs": [
    {
     "name": "stdout",
     "output_type": "stream",
     "text": [
      "Age: 25\n"
     ]
    }
   ],
   "source": [
    "age = 25\n",
    "print(\"Age:\", age)"
   ]
  },
  {
   "cell_type": "code",
   "execution_count": 19,
   "id": "070e36ef-e8b1-4ed3-8afb-dc9197ea5f57",
   "metadata": {},
   "outputs": [
    {
     "name": "stdout",
     "output_type": "stream",
     "text": [
      "Height: 6.2\n"
     ]
    }
   ],
   "source": [
    "height=6.2\n",
    "print(\"Height:\", height)"
   ]
  },
  {
   "cell_type": "code",
   "execution_count": 21,
   "id": "83ec8cd7-aea5-4695-a154-e94aa836f4e3",
   "metadata": {},
   "outputs": [
    {
     "name": "stdout",
     "output_type": "stream",
     "text": [
      "Age: 40\n",
      "\n",
      "Height: 5.9\n",
      "\n",
      "\n",
      "\n",
      "\n",
      "Name: Ali\n"
     ]
    }
   ],
   "source": [
    "#integer\n",
    "age = 40\n",
    "print(\"Age:\", age)\n",
    "\n",
    "# Float\n",
    "height = 5.9\n",
    "print(\"\\nHeight:\", height)\n",
    "#As you notice in the above that single \"\\n\"(Escape Sequence) shows the content on next line.\n",
    "\n",
    "#string\n",
    "name=\"Ali\"\n",
    "print(\"\\n\\n\\n\\nName:\", name)\n",
    "#As you notice that if you use more times \"escape sequences\" then you move on more next lines \n"
   ]
  },
  {
   "cell_type": "code",
   "execution_count": null,
   "id": "2a71468f-8a04-422e-b4d5-9b8020dff2a0",
   "metadata": {},
   "outputs": [],
   "source": []
  }
 ],
 "metadata": {
  "kernelspec": {
   "display_name": "Python [conda env:base] *",
   "language": "python",
   "name": "conda-base-py"
  },
  "language_info": {
   "codemirror_mode": {
    "name": "ipython",
    "version": 3
   },
   "file_extension": ".py",
   "mimetype": "text/x-python",
   "name": "python",
   "nbconvert_exporter": "python",
   "pygments_lexer": "ipython3",
   "version": "3.12.7"
  }
 },
 "nbformat": 4,
 "nbformat_minor": 5
}
