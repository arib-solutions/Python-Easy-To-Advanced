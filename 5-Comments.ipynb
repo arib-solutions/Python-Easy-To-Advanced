{
 "cells": [
  {
   "cell_type": "markdown",
   "id": "2fffe573-fddc-4b51-bb64-9b0f5718e89e",
   "metadata": {},
   "source": [
    "## COMMENTS"
   ]
  },
  {
   "cell_type": "markdown",
   "id": "6295816e-4e40-4a93-ae05-3117257f67d3",
   "metadata": {},
   "source": [
    "### Single-Line Comment"
   ]
  },
  {
   "cell_type": "code",
   "execution_count": 3,
   "id": "fac502be-c9df-43ce-95af-2add5e6cc319",
   "metadata": {},
   "outputs": [
    {
     "name": "stdout",
     "output_type": "stream",
     "text": [
      "Dad is my favourite\n",
      "Dad is my favourite\n"
     ]
    }
   ],
   "source": [
    "print(\"Dad is my favourite\")\n",
    "print(\"Dad is my favourite\")\n",
    "#print(\"Dad is my favourite\")\n",
    "#single line comment makes the things easier to understand but not print"
   ]
  },
  {
   "cell_type": "code",
   "execution_count": 5,
   "id": "6211c36d-43bf-4d8f-9f95-72700f028b86",
   "metadata": {},
   "outputs": [
    {
     "name": "stdout",
     "output_type": "stream",
     "text": [
      "100\n"
     ]
    }
   ],
   "source": [
    "a=85\n",
    "b=10\n",
    "c=5\n",
    "print(a+b+c)"
   ]
  },
  {
   "cell_type": "markdown",
   "id": "3831d6d6-986b-4965-b5dc-cbbf9e184ff6",
   "metadata": {},
   "source": [
    "### Multi-Line Comments"
   ]
  },
  {
   "cell_type": "code",
   "execution_count": 10,
   "id": "f35b8d89-e61c-4b0b-9a43-2b3248c00ced",
   "metadata": {},
   "outputs": [
    {
     "name": "stdout",
     "output_type": "stream",
     "text": [
      "75\n"
     ]
    },
    {
     "data": {
      "text/plain": [
       "'\\nMultiline comment\\nhighlighted the data\\nand does not print\\n'"
      ]
     },
     "execution_count": 10,
     "metadata": {},
     "output_type": "execute_result"
    }
   ],
   "source": [
    "x1=30\n",
    "y2=40\n",
    "z3=5\n",
    "print(x1+y2+z3)\n",
    "\n",
    "\"\"\"\n",
    "Multiline comment\n",
    "highlighted the data\n",
    "and does not print\n",
    "\"\"\"\n",
    "#Multiline comment shows the triple inverted quotes suc as \"\"\"\n",
    "#You can see problem in it that multi-line comment show the content so you can use other app to resolve this issue."
   ]
  },
  {
   "cell_type": "code",
   "execution_count": 12,
   "id": "9e50855b-c002-4a89-a719-aa35458bc90f",
   "metadata": {},
   "outputs": [
    {
     "name": "stdout",
     "output_type": "stream",
     "text": [
      "False\n"
     ]
    },
    {
     "data": {
      "text/plain": [
       "'\\nBecause It\\'s like asking \\n\"Is this apple the same as the concept of fruit?\"\\n- they\\'re related, but not the same thing.\\n'"
      ]
     },
     "execution_count": 12,
     "metadata": {},
     "output_type": "execute_result"
    }
   ],
   "source": [
    "x = \"Hello World\" == str\n",
    "print(x)\n",
    "# why it show false in answer?\n",
    "'''\n",
    "Because It's like asking \n",
    "\"Is this apple the same as the concept of fruit?\"\n",
    "- they're related, but not the same thing.\n",
    "'''"
   ]
  },
  {
   "cell_type": "code",
   "execution_count": 14,
   "id": "d07921ee-392e-4949-b9c1-5a063c8dc148",
   "metadata": {},
   "outputs": [
    {
     "name": "stdout",
     "output_type": "stream",
     "text": [
      "75\n"
     ]
    },
    {
     "data": {
      "text/plain": [
       "'Multiline comment\\nhighlighted the data\\nand does not print\\n'"
      ]
     },
     "execution_count": 14,
     "metadata": {},
     "output_type": "execute_result"
    }
   ],
   "source": [
    "x1=30\n",
    "y2=40\n",
    "z3=5\n",
    "print(x1+y2+z3)\n",
    "\n",
    "\n",
    "\"\"\"Multiline comment\n",
    "highlighted the data\n",
    "and does not print\n",
    "\"\"\""
   ]
  },
  {
   "cell_type": "code",
   "execution_count": null,
   "id": "6aad5833-6475-4fd8-8859-3955b52d048f",
   "metadata": {},
   "outputs": [],
   "source": []
  },
  {
   "cell_type": "code",
   "execution_count": null,
   "id": "c87c6e5b-582b-485d-b330-ab3b515bb734",
   "metadata": {},
   "outputs": [],
   "source": []
  },
  {
   "cell_type": "code",
   "execution_count": null,
   "id": "5a2d7abc-0279-49ee-8b92-706001cc26e2",
   "metadata": {},
   "outputs": [],
   "source": []
  },
  {
   "cell_type": "code",
   "execution_count": null,
   "id": "64ef181f-0087-4d73-96eb-3578976c09f0",
   "metadata": {},
   "outputs": [],
   "source": []
  },
  {
   "cell_type": "code",
   "execution_count": null,
   "id": "c2db2a94-098f-40ab-81eb-2e3a52e34e19",
   "metadata": {},
   "outputs": [],
   "source": []
  }
 ],
 "metadata": {
  "kernelspec": {
   "display_name": "Python [conda env:base] *",
   "language": "python",
   "name": "conda-base-py"
  },
  "language_info": {
   "codemirror_mode": {
    "name": "ipython",
    "version": 3
   },
   "file_extension": ".py",
   "mimetype": "text/x-python",
   "name": "python",
   "nbconvert_exporter": "python",
   "pygments_lexer": "ipython3",
   "version": "3.12.7"
  }
 },
 "nbformat": 4,
 "nbformat_minor": 5
}
