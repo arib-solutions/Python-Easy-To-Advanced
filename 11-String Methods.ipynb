{
 "cells": [
  {
   "cell_type": "markdown",
   "id": "aa5ecdd4-cd7f-44d8-a05c-f0c17dc940cf",
   "metadata": {},
   "source": [
    "## String Methods"
   ]
  },
  {
   "cell_type": "markdown",
   "id": "67b0d863-ae5a-4aae-90eb-9d8e561bd086",
   "metadata": {},
   "source": [
    "### 1-len()"
   ]
  },
  {
   "cell_type": "code",
   "execution_count": 16,
   "id": "6c165667-265e-4b20-ae88-67cf0b70a1e9",
   "metadata": {},
   "outputs": [
    {
     "name": "stdout",
     "output_type": "stream",
     "text": [
      "7\n"
     ]
    }
   ],
   "source": [
    "z=\"Welcome\"\n",
    "print(len(z)) #Using'len()' to check the length of the string"
   ]
  },
  {
   "cell_type": "markdown",
   "id": "42247aa6-3ba6-4822-871e-b55c25eebf0c",
   "metadata": {},
   "source": [
    "### 2-upper()"
   ]
  },
  {
   "cell_type": "code",
   "execution_count": 23,
   "id": "cad63643-0d19-4dc7-ae2a-4d2ee64b7974",
   "metadata": {},
   "outputs": [
    {
     "data": {
      "text/plain": [
       "'HAPPY'"
      ]
     },
     "execution_count": 23,
     "metadata": {},
     "output_type": "execute_result"
    }
   ],
   "source": [
    "c=\"Happy\"\n",
    "c.upper() #Using 'upper()' to capitalize the string."
   ]
  },
  {
   "cell_type": "markdown",
   "id": "ad2123e6-31ee-43c2-96f9-e9a752fe8187",
   "metadata": {},
   "source": [
    "### 3-lower()"
   ]
  },
  {
   "cell_type": "code",
   "execution_count": 29,
   "id": "ce35983e-cb53-475d-b9e2-a758c9d57b01",
   "metadata": {},
   "outputs": [
    {
     "data": {
      "text/plain": [
       "'strong'"
      ]
     },
     "execution_count": 29,
     "metadata": {},
     "output_type": "execute_result"
    }
   ],
   "source": [
    "a=\"Strong\"\n",
    "a.lower() ##Using 'lower()' to show small alphabets of the string."
   ]
  },
  {
   "cell_type": "markdown",
   "id": "b8cd0103-4385-4e68-a969-de8f6280c103",
   "metadata": {},
   "source": [
    "### 4-replace()"
   ]
  },
  {
   "cell_type": "code",
   "execution_count": 60,
   "id": "b7d0df9b-ffa6-447c-b8b8-5e755f468061",
   "metadata": {},
   "outputs": [
    {
     "name": "stdout",
     "output_type": "stream",
     "text": [
      "Old string: Python,Numpy\n",
      "New string: Python,Pandas\n"
     ]
    }
   ],
   "source": [
    "old_str=\"Python,Numpy\"\n",
    "print(\"Old string:\",old_str)\n",
    "new_str=old_str.replace(\"Numpy\",\"Pandas\") #we replaced \"Pandas\" in the place of \"Numpy\"\n",
    "print(\"New string:\",new_str)"
   ]
  },
  {
   "cell_type": "markdown",
   "id": "201e6871-2564-42af-a6ba-54fc61415808",
   "metadata": {},
   "source": [
    "### 5-find()"
   ]
  },
  {
   "cell_type": "code",
   "execution_count": 81,
   "id": "dc7d7200-1ea3-4779-83bf-9b0750dc8c1b",
   "metadata": {},
   "outputs": [
    {
     "data": {
      "text/plain": [
       "6"
      ]
     },
     "execution_count": 81,
     "metadata": {},
     "output_type": "execute_result"
    }
   ],
   "source": [
    "f=\"Happy Birthday\"\n",
    "f.find(\"B\") # Using \"find()\" method to find the positon of single alphabet of string"
   ]
  },
  {
   "cell_type": "code",
   "execution_count": 85,
   "id": "7184aff5-ff12-441d-b760-42e0d98702c7",
   "metadata": {},
   "outputs": [
    {
     "data": {
      "text/plain": [
       "4"
      ]
     },
     "execution_count": 85,
     "metadata": {},
     "output_type": "execute_result"
    }
   ],
   "source": [
    "d=\"New Year\"\n",
    "d.find(\"Year\") # Using \"find()\" method to find the positon of whole string"
   ]
  },
  {
   "cell_type": "markdown",
   "id": "85c7de33-bf3f-4e74-956b-8357a708c2ea",
   "metadata": {},
   "source": [
    "### 6-strip()"
   ]
  },
  {
   "cell_type": "code",
   "execution_count": 98,
   "id": "2d4b1db4-9190-489a-92f6-4d27275293a6",
   "metadata": {},
   "outputs": [
    {
     "name": "stdout",
     "output_type": "stream",
     "text": [
      "    Remains  Always Happy     \n",
      "Remains  Always Happy\n"
     ]
    }
   ],
   "source": [
    "a= \"    Remains  Always Happy     \"\n",
    "print(a)\n",
    "new_a = a.strip() # strip method remove the extra spaces around commas\n",
    "print(new_a)"
   ]
  },
  {
   "cell_type": "markdown",
   "id": "563e9848-8d51-4a73-8d52-c63ef482b5c9",
   "metadata": {},
   "source": [
    "### 7-split()"
   ]
  },
  {
   "cell_type": "code",
   "execution_count": 111,
   "id": "913cfc5a-f234-4373-92ba-84b2fd3e2207",
   "metadata": {},
   "outputs": [
    {
     "data": {
      "text/plain": [
       "['Good job']"
      ]
     },
     "execution_count": 111,
     "metadata": {},
     "output_type": "execute_result"
    }
   ],
   "source": [
    "r=\"Good job\"\n",
    "r.split(\",\") #It made the square brackets around the string"
   ]
  },
  {
   "cell_type": "code",
   "execution_count": null,
   "id": "20e573a2-6e94-4408-8738-806b00c5d5b1",
   "metadata": {},
   "outputs": [],
   "source": []
  },
  {
   "cell_type": "code",
   "execution_count": null,
   "id": "3255a8cf-c559-4415-bd8d-d7b87f8d968d",
   "metadata": {},
   "outputs": [],
   "source": []
  },
  {
   "cell_type": "code",
   "execution_count": null,
   "id": "5540d5cf-fbeb-4e74-b009-f1635e3842ff",
   "metadata": {},
   "outputs": [],
   "source": []
  }
 ],
 "metadata": {
  "kernelspec": {
   "display_name": "Python [conda env:base] *",
   "language": "python",
   "name": "conda-base-py"
  },
  "language_info": {
   "codemirror_mode": {
    "name": "ipython",
    "version": 3
   },
   "file_extension": ".py",
   "mimetype": "text/x-python",
   "name": "python",
   "nbconvert_exporter": "python",
   "pygments_lexer": "ipython3",
   "version": "3.12.7"
  }
 },
 "nbformat": 4,
 "nbformat_minor": 5
}
