{
 "cells": [
  {
   "cell_type": "markdown",
   "id": "acee495b-fe93-4898-b22b-1b3620834fc1",
   "metadata": {},
   "source": [
    "## Print Methods In Python"
   ]
  },
  {
   "cell_type": "code",
   "execution_count": 7,
   "id": "1c48f189-0ca5-4c65-a178-37c1eaa72405",
   "metadata": {},
   "outputs": [
    {
     "name": "stdout",
     "output_type": "stream",
     "text": [
      "153\n"
     ]
    }
   ],
   "source": [
    "print(153)\n",
    "#integers not required inverted commas to print"
   ]
  },
  {
   "cell_type": "code",
   "execution_count": 9,
   "id": "6276126e-6c02-41e7-83d6-b067fc446e73",
   "metadata": {},
   "outputs": [
    {
     "name": "stdout",
     "output_type": "stream",
     "text": [
      "23.4\n"
     ]
    }
   ],
   "source": [
    "print(23.4)\n",
    "#float values not required inverted commas to print"
   ]
  },
  {
   "cell_type": "code",
   "execution_count": 4,
   "id": "782c05ec-8571-4746-8ef5-547ddeb0f808",
   "metadata": {},
   "outputs": [
    {
     "name": "stdout",
     "output_type": "stream",
     "text": [
      "Any Sentence\n"
     ]
    }
   ],
   "source": [
    "print('Any Sentence')\n",
    "#string always required \" inverted commas or ' single comma to print"
   ]
  },
  {
   "cell_type": "code",
   "execution_count": 17,
   "id": "d5518571-d2eb-46fd-982d-80e08e25fbba",
   "metadata": {},
   "outputs": [
    {
     "name": "stdout",
     "output_type": "stream",
     "text": [
      "124 NAME 54.99\n"
     ]
    }
   ],
   "source": [
    "print(124, \"NAME\", 54.99)"
   ]
  },
  {
   "cell_type": "code",
   "execution_count": null,
   "id": "9c1307ed-3506-4177-836a-05ca6791584e",
   "metadata": {},
   "outputs": [],
   "source": []
  }
 ],
 "metadata": {
  "kernelspec": {
   "display_name": "Python [conda env:base] *",
   "language": "python",
   "name": "conda-base-py"
  },
  "language_info": {
   "codemirror_mode": {
    "name": "ipython",
    "version": 3
   },
   "file_extension": ".py",
   "mimetype": "text/x-python",
   "name": "python",
   "nbconvert_exporter": "python",
   "pygments_lexer": "ipython3",
   "version": "3.12.7"
  }
 },
 "nbformat": 4,
 "nbformat_minor": 5
}
