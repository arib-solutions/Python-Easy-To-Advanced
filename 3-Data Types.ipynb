{
 "cells": [
  {
   "cell_type": "markdown",
   "id": "e9ff6195-dcee-43e3-aa41-2b984448ef86",
   "metadata": {},
   "source": [
    "## DATA TYPES"
   ]
  },
  {
   "cell_type": "code",
   "execution_count": 3,
   "id": "2f6b6d34-ea4f-456a-b935-2e439d43463b",
   "metadata": {},
   "outputs": [
    {
     "data": {
      "text/plain": [
       "str"
      ]
     },
     "execution_count": 3,
     "metadata": {},
     "output_type": "execute_result"
    }
   ],
   "source": [
    "a=\"apple is red\"\n",
    "type(a)"
   ]
  },
  {
   "cell_type": "code",
   "execution_count": 5,
   "id": "e1bcae1b-7265-4eab-8864-6493ac2accd3",
   "metadata": {},
   "outputs": [
    {
     "data": {
      "text/plain": [
       "int"
      ]
     },
     "execution_count": 5,
     "metadata": {},
     "output_type": "execute_result"
    }
   ],
   "source": [
    "a=56654\n",
    "type(a)"
   ]
  },
  {
   "cell_type": "code",
   "execution_count": 7,
   "id": "58af1584-a43e-4535-9257-fe6a1e17f8b1",
   "metadata": {},
   "outputs": [
    {
     "data": {
      "text/plain": [
       "float"
      ]
     },
     "execution_count": 7,
     "metadata": {},
     "output_type": "execute_result"
    }
   ],
   "source": [
    "a=5.664\n",
    "type(a)"
   ]
  },
  {
   "cell_type": "code",
   "execution_count": 9,
   "id": "ac843061-b1ca-4ab2-87a3-39a3ffc4c9da",
   "metadata": {},
   "outputs": [
    {
     "name": "stdout",
     "output_type": "stream",
     "text": [
      "Is 'a' equal to 'b'? False\n"
     ]
    }
   ],
   "source": [
    "a=30\n",
    "b=50\n",
    "#Equality\n",
    "print(\"Is 'a' equal to 'b'?\",a==b) # It is Boolean Data Type to show answer in 'True' or 'False'"
   ]
  },
  {
   "cell_type": "code",
   "execution_count": null,
   "id": "fbe394f5-7e2c-4409-bb3d-1bed6a770b18",
   "metadata": {},
   "outputs": [],
   "source": []
  }
 ],
 "metadata": {
  "kernelspec": {
   "display_name": "Python [conda env:base] *",
   "language": "python",
   "name": "conda-base-py"
  },
  "language_info": {
   "codemirror_mode": {
    "name": "ipython",
    "version": 3
   },
   "file_extension": ".py",
   "mimetype": "text/x-python",
   "name": "python",
   "nbconvert_exporter": "python",
   "pygments_lexer": "ipython3",
   "version": "3.12.7"
  }
 },
 "nbformat": 4,
 "nbformat_minor": 5
}
