{
 "cells": [
  {
   "cell_type": "markdown",
   "id": "019dcdb4-eee3-4082-a8ba-e3a3be977dcd",
   "metadata": {},
   "source": [
    "## String Concatenation and Formatting"
   ]
  },
  {
   "cell_type": "markdown",
   "id": "ab9d7757-25ab-4f11-b535-129d6db8c7b3",
   "metadata": {},
   "source": [
    "### 1-Concatenating Strings"
   ]
  },
  {
   "cell_type": "code",
   "execution_count": 29,
   "id": "25927b3f-6670-40d6-8635-470f407fa90d",
   "metadata": {},
   "outputs": [
    {
     "name": "stdout",
     "output_type": "stream",
     "text": [
      "Alpha,Beta\n"
     ]
    }
   ],
   "source": [
    "g=\"Alpha\"\n",
    "k=\"Beta\"\n",
    "mix=g+\",\"+k #concatenate strings by using '+' operators\n",
    "print(mix)"
   ]
  },
  {
   "cell_type": "markdown",
   "id": "54c9f4b8-dbc5-41dc-9dea-42d0f3a4fcee",
   "metadata": {},
   "source": [
    "### 2-Formatting Strings using \"format()\""
   ]
  },
  {
   "cell_type": "code",
   "execution_count": 75,
   "id": "42d823be-9233-4753-92a5-8d94ad1b0c28",
   "metadata": {},
   "outputs": [
    {
     "name": "stdout",
     "output_type": "stream",
     "text": [
      "Name:Quaid Age:71\n"
     ]
    }
   ],
   "source": [
    "name=\"Quaid\"\n",
    "age=71\n",
    "print(\"Name:{} Age:{}\".format(name,age)) # Using \"format()\" to call values which is stored in variables\n"
   ]
  },
  {
   "cell_type": "markdown",
   "id": "7aad46f1-4ec8-45aa-b5d7-104746e6a9be",
   "metadata": {},
   "source": [
    "### 3-Formatting Strings using \"F-strings\""
   ]
  },
  {
   "cell_type": "code",
   "execution_count": 94,
   "id": "14e56135-20c3-4a75-9790-be08202aad9d",
   "metadata": {},
   "outputs": [
    {
     "name": "stdout",
     "output_type": "stream",
     "text": [
      "Name:Aqib Age:25 Height:6.2\n"
     ]
    }
   ],
   "source": [
    "name=\"Aqib\"\n",
    "height=6.2\n",
    "age=25\n",
    "print(f\"Name:{name} Age:{age} Height:{height}\")"
   ]
  },
  {
   "cell_type": "code",
   "execution_count": null,
   "id": "9cc55977-e8b7-4884-8b0b-c64cc6bf71a3",
   "metadata": {},
   "outputs": [],
   "source": []
  }
 ],
 "metadata": {
  "kernelspec": {
   "display_name": "Python [conda env:base] *",
   "language": "python",
   "name": "conda-base-py"
  },
  "language_info": {
   "codemirror_mode": {
    "name": "ipython",
    "version": 3
   },
   "file_extension": ".py",
   "mimetype": "text/x-python",
   "name": "python",
   "nbconvert_exporter": "python",
   "pygments_lexer": "ipython3",
   "version": "3.12.7"
  }
 },
 "nbformat": 4,
 "nbformat_minor": 5
}
