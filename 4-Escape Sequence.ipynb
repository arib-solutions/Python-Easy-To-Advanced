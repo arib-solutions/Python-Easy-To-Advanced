{
 "cells": [
  {
   "cell_type": "markdown",
   "id": "32c2ba39-0ebc-4166-ad9f-e26a62326596",
   "metadata": {},
   "source": [
    "## Escape Sequence (\\n)"
   ]
  },
  {
   "cell_type": "code",
   "execution_count": 55,
   "id": "4a5bae94-d54d-4b77-bedf-28ff6c8d4ad6",
   "metadata": {},
   "outputs": [
    {
     "name": "stdout",
     "output_type": "stream",
     "text": [
      "Hi, Welcome to you on Python!\n",
      "\n",
      "Are you interested to learn python?\n",
      "Yes\n",
      "\n",
      "Have you learnt Basics of Python?\n",
      "Yes\n",
      "\n",
      "Great!\n"
     ]
    }
   ],
   "source": [
    "print(\"Hi, Welcome to you on Python!\\n\") #we use escape sequence to spacing two lines\n",
    "print(\"Are you interested to learn python?\")\n",
    "print(\"Yes\")\n",
    "print(\"\\nHave you learnt Basics of Python?\") #you can use escape sequence at the first of line or at the last of line\n",
    "print(\"Yes\")\n",
    "print()  #you can use empty print() section for move on next line\n",
    "print(\"Great!\")"
   ]
  },
  {
   "cell_type": "code",
   "execution_count": null,
   "id": "5c7e9c8a-ca43-4ab6-95e2-f9a0c05473d3",
   "metadata": {},
   "outputs": [],
   "source": []
  }
 ],
 "metadata": {
  "kernelspec": {
   "display_name": "Python [conda env:base] *",
   "language": "python",
   "name": "conda-base-py"
  },
  "language_info": {
   "codemirror_mode": {
    "name": "ipython",
    "version": 3
   },
   "file_extension": ".py",
   "mimetype": "text/x-python",
   "name": "python",
   "nbconvert_exporter": "python",
   "pygments_lexer": "ipython3",
   "version": "3.12.7"
  }
 },
 "nbformat": 4,
 "nbformat_minor": 5
}
