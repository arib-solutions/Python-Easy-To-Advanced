{
 "cells": [
  {
   "cell_type": "markdown",
   "id": "a3400cf1-d20e-462e-97e6-5105c090981c",
   "metadata": {},
   "source": [
    "## Access Items In Strings"
   ]
  },
  {
   "cell_type": "code",
   "execution_count": 75,
   "id": "53754a85-24e0-4264-addf-36d981850c8f",
   "metadata": {},
   "outputs": [
    {
     "name": "stdout",
     "output_type": "stream",
     "text": [
      "Hi World\n",
      "H\n",
      "i\n",
      "Hi Wor\n",
      "Hi World\n",
      "Hi Wor\n",
      "orld\n",
      "r\n",
      "rl\n"
     ]
    }
   ],
   "source": [
    "a = \"Hi World\"\n",
    "#For indexing: H on '0' place and i on '1' place and so on.(Remember that spacebar also included in indexing)\n",
    "#For negative indexing: d is on -1 place and l is on -2 place and so on.\n",
    "print(a)\n",
    "print(a[0]) # indexing start from 0 to onwards\n",
    "print(a[1]) \n",
    "print(a[0:6]) # Access multiple items from string\n",
    "print(a[0:9]) # For access full string ('0' is included but '9' is excluded)\n",
    "print(a[:6])\n",
    "print(a[4:]) \n",
    "print(a[-3])\n",
    "print(a[-3:-1]) #Note: -3 is included but -1 is excluded"
   ]
  },
  {
   "cell_type": "code",
   "execution_count": null,
   "id": "259e5eb1-31e0-4162-9fa2-20ed7fac0496",
   "metadata": {},
   "outputs": [],
   "source": []
  }
 ],
 "metadata": {
  "kernelspec": {
   "display_name": "Python [conda env:base] *",
   "language": "python",
   "name": "conda-base-py"
  },
  "language_info": {
   "codemirror_mode": {
    "name": "ipython",
    "version": 3
   },
   "file_extension": ".py",
   "mimetype": "text/x-python",
   "name": "python",
   "nbconvert_exporter": "python",
   "pygments_lexer": "ipython3",
   "version": "3.12.7"
  }
 },
 "nbformat": 4,
 "nbformat_minor": 5
}
